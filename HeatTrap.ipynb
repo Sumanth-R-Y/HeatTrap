{
 "cells": [
  {
   "cell_type": "markdown",
   "metadata": {},
   "source": [
    "# Heat Trap Experiment using Raspberry Pi and DS18B20 temperature sensor "
   ]
  },
  {
   "cell_type": "markdown",
   "metadata": {},
   "source": [
    "## Introduction\n",
    "Heat Trap Experiment is to build a small scale heat trap where we rely on the fact that metals reflect heat and light. "
   ]
  },
  {
   "cell_type": "markdown",
   "metadata": {},
   "source": [
    "## Experiment\n",
    "\n",
    "* ### Things Needed\n",
    "We used a cardboard box, aluminum foil, plastic food wrapper, hot glue gun, 2 cups of water and adhesive tape for the base expermient. We used Raspberry Pi, DS18B20, 4.71$\\mathsf{k\\Omega}$, a bread-board and wires.\n",
    "\n",
    "---\n",
    "\n",
    "* ### Setup\n",
    "The cardboard box (cuboid) was cut in such a way that 2 long surfaces are opened up. One of the surfaces are reused as partition in the middle to create 2 compartments.   \n",
    "The partition was glued to the cardboard box using hot glue gun.  \n",
    "Each compartment has openings on the top and front.  \n",
    "One compartment is lined with aluminum foil and secured the foil using adhesive tape.  \n",
    "\n",
    "   Each of the 2 cups of water taken from the same source (same temperature) is put into the compartments.  \n",
    "   To monitor the temperature of the water - we have set up Raspberry Pi and 2 DS18B20 temperature sensors.  \n",
    "   Each of the temperature sensors is immersed in the water and using adhesive tape, the sensor cord is taped to the glass.  \n",
    "   The entire cardboard is now wrapped with the plastic food wrapper.\n",
    "   \n",
    "---\n",
    "\n",
    "* ### Procedure\n",
    "The equipment is put in a place where both the compartment recieves the sunlight without any shade.\n",
    "The python script on Raspberry Pi is activated to take the 3000 Samples from the sensors.\n",
    "\n",
    "---\n",
    "\n",
    "* ### Observation\n",
    "After close to an hour - by dipping the the finger in both glasses, It is observed that the glass of water in compartment wrapped with aluminum foil is warmer compared to the other compartment.\n",
    "#### Validating the same using the data collected from the Raspberry Pi.\n"
   ]
  },
  {
   "cell_type": "code",
   "execution_count": 11,
   "metadata": {},
   "outputs": [
    {
     "name": "stdout",
     "output_type": "stream",
     "text": [
      "#################### Foiled  Data ####################\n",
      "Number of Samples     ::: 3000\n",
      "Minimum value Celsius ::: 17.125000\n",
      "Maximum value Celsius ::: 23.062000\n",
      "#################### Regular Data ####################\n",
      "Number of Samples     ::: 3000\n",
      "Minimum value Celsius ::: 16.937000\n",
      "Maximum value Celsius ::: 22.312000\n"
     ]
    }
   ],
   "source": [
    "# 2020051212284428-3c01b5561704.data - is from \n",
    "#   DS18B20 put in Aluminum foiled compartment\n",
    "sensor1 = open('2020051212284428-3c01b5561704.data','r')\n",
    "\n",
    "# Aluminum Foiled Comparment data\n",
    "data1 = sensor1.readlines()\n",
    "# Removing \\n and dividing by 1000 to get data in celsius\n",
    "FoiledData = [int(i.replace('\\n',''))/1000.0 for i in data1]\n",
    "\n",
    "\n",
    "# 2020051212284428-3c01b556ad69.data - is from \n",
    "#   DS18B20 put in Regular compartment\n",
    "sensor2 = open('2020051212284428-3c01b556ad69.data','r')\n",
    "\n",
    "# Regular Compartment data\n",
    "data2 = sensor2.readlines()\n",
    "# Removing \\n and dividing by 1000 to get data in celsius\n",
    "RegularData = [int(i.replace('\\n',''))/1000.0 for i in data2]\n",
    "\n",
    "# Getting to know the data\n",
    "print(\"#################### Foiled  Data ####################\")\n",
    "print(\"Number of Samples     ::: %d\" %(len(FoiledData)))\n",
    "print(\"Minimum value Celsius ::: %f +\" %(min(FoiledData)))\n",
    "print(\"Maximum value Celsius ::: %f\" %(max(FoiledData)))\n",
    "print(\"#################### Regular Data ####################\")\n",
    "print(\"Number of Samples     ::: %d\" %(len(RegularData)))\n",
    "print(\"Minimum value Celsius ::: %f\" %(min(RegularData)))\n",
    "print(\"Maximum value Celsius ::: %f\" %(max(RegularData)))\n"
   ]
  },
  {
   "cell_type": "code",
   "execution_count": 12,
   "metadata": {},
   "outputs": [
    {
     "data": {
      "text/plain": [
       "<matplotlib.legend.Legend at 0x200d90b8d30>"
      ]
     },
     "execution_count": 12,
     "metadata": {},
     "output_type": "execute_result"
    },
    {
     "data": {
      "image/png": "[encoded data removed]",
      "text/plain": [
       "<Figure size 432x288 with 1 Axes>"
      ]
     },
     "metadata": {
      "needs_background": "light"
     },
     "output_type": "display_data"
    }
   ],
   "source": [
    "from matplotlib import pyplot as plt\n",
    "\n",
    "sample = [i for i in range(1,len(data1)+1)]\n",
    "plt.plot(sample,FoiledData, label='HeatTrap Water')\n",
    "plt.plot(sample,RegularData, label='Regular Water')\n",
    "plt.xlabel(\"Sample (n)\")\n",
    "plt.ylabel(\"Temp (Celsius)\")\n",
    "plt.legend()"
   ]
  }
 ],
 "metadata": {
  "kernelspec": {
   "display_name": "localJupyterVenv",
   "language": "python",
   "name": "localjupytervenv"
  },
  "language_info": {
   "codemirror_mode": {
    "name": "ipython",
    "version": 3
   },
   "file_extension": ".py",
   "mimetype": "text/x-python",
   "name": "python",
   "nbconvert_exporter": "python",
   "pygments_lexer": "ipython3",
   "version": "3.8.2"
  }
 },
 "nbformat": 4,
 "nbformat_minor": 4
}
